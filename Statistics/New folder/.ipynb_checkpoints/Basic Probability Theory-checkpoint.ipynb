{
 "cells": [
  {
   "cell_type": "code",
   "execution_count": 1,
   "id": "668abebe",
   "metadata": {},
   "outputs": [],
   "source": [
    "import numpy as np"
   ]
  },
  {
   "cell_type": "code",
   "execution_count": 4,
   "id": "43a86c0f",
   "metadata": {},
   "outputs": [
    {
     "data": {
      "text/plain": [
       "0.3472100140737393"
      ]
     },
     "execution_count": 4,
     "metadata": {},
     "output_type": "execute_result"
    }
   ],
   "source": [
    "np.random.rand()"
   ]
  },
  {
   "cell_type": "code",
   "execution_count": 14,
   "id": "f32c86a6",
   "metadata": {},
   "outputs": [
    {
     "data": {
      "text/plain": [
       "0.7178340874802498"
      ]
     },
     "execution_count": 14,
     "metadata": {},
     "output_type": "execute_result"
    }
   ],
   "source": [
    "np.random.seed(555)\n",
    "np.random.rand()"
   ]
  },
  {
   "cell_type": "code",
   "execution_count": 20,
   "id": "8c96fd2f",
   "metadata": {},
   "outputs": [
    {
     "data": {
      "text/plain": [
       "array([0.4313959 , 0.41124451, 0.62906175, 0.50252189, 0.16212784])"
      ]
     },
     "execution_count": 20,
     "metadata": {},
     "output_type": "execute_result"
    }
   ],
   "source": [
    "np.random.rand(5)"
   ]
  },
  {
   "cell_type": "code",
   "execution_count": 19,
   "id": "39d8221f",
   "metadata": {},
   "outputs": [
    {
     "data": {
      "text/plain": [
       "array([ True, False,  True, False, False])"
      ]
     },
     "execution_count": 19,
     "metadata": {},
     "output_type": "execute_result"
    }
   ],
   "source": [
    "np.random.rand(5)>0.5"
   ]
  },
  {
   "cell_type": "code",
   "execution_count": 21,
   "id": "4be332c3",
   "metadata": {},
   "outputs": [
    {
     "data": {
      "text/plain": [
       "array([False,  True, False,  True, False])"
      ]
     },
     "execution_count": 21,
     "metadata": {},
     "output_type": "execute_result"
    }
   ],
   "source": [
    "np.random.seed(555)\n",
    "np.random.rand(5)\n",
    "np.random.rand(5)>0.5 # if value greater than 0.5, it is a head"
   ]
  },
  {
   "cell_type": "code",
   "execution_count": 22,
   "id": "7aaea3a2",
   "metadata": {},
   "outputs": [
    {
     "data": {
      "text/plain": [
       "2"
      ]
     },
     "execution_count": 22,
     "metadata": {},
     "output_type": "execute_result"
    }
   ],
   "source": [
    "sum(np.random.rand(5)>0.5) # 2 Heads"
   ]
  },
  {
   "cell_type": "code",
   "execution_count": 23,
   "id": "a6e04198",
   "metadata": {},
   "outputs": [
    {
     "data": {
      "text/plain": [
       "array([[0.54446869, 0.04119477, 0.46816625, 0.88874673, 0.47625856],\n",
       "       [0.41248898, 0.61610654, 0.32141655, 0.58086926, 0.39661405]])"
      ]
     },
     "execution_count": 23,
     "metadata": {},
     "output_type": "execute_result"
    }
   ],
   "source": [
    "np.random.rand(2,5)"
   ]
  },
  {
   "cell_type": "code",
   "execution_count": 24,
   "id": "69cde50b",
   "metadata": {},
   "outputs": [
    {
     "data": {
      "text/plain": [
       "array([0, 1, 1, 0, 0, 1, 0, 1, 0, 0])"
      ]
     },
     "execution_count": 24,
     "metadata": {},
     "output_type": "execute_result"
    }
   ],
   "source": [
    "np.random.randint(0,2,10)"
   ]
  },
  {
   "cell_type": "code",
   "execution_count": 25,
   "id": "b8c50ec5",
   "metadata": {},
   "outputs": [
    {
     "data": {
      "text/plain": [
       "5"
      ]
     },
     "execution_count": 25,
     "metadata": {},
     "output_type": "execute_result"
    }
   ],
   "source": [
    "sum(np.random.randint(0,2,10))"
   ]
  },
  {
   "cell_type": "code",
   "execution_count": 35,
   "id": "76fec5cf",
   "metadata": {},
   "outputs": [
    {
     "data": {
      "text/plain": [
       "array([2, 2, 3, 6, 2, 6, 3, 3, 5, 3, 5, 6, 6, 6, 2, 2, 4, 3, 4, 4, 3, 3,\n",
       "       6, 3, 3, 5, 4, 3, 5, 4, 4, 3, 5, 6, 1, 4, 4, 2, 3, 5, 5, 4, 3, 5,\n",
       "       2, 2, 1, 5, 4, 5, 5, 5, 1, 5, 1, 2, 6, 2, 3, 6, 2, 6, 5, 6, 5, 6,\n",
       "       6, 3, 6, 3, 1, 6, 2, 4, 3, 6, 2, 6, 3, 3, 3, 4, 1, 2, 6, 5, 5, 3,\n",
       "       6, 1, 5, 1, 4, 2, 6, 1, 6, 4, 5, 6])"
      ]
     },
     "execution_count": 35,
     "metadata": {},
     "output_type": "execute_result"
    }
   ],
   "source": [
    "np.random.randint(1,7,100) #roll a dice 100 times"
   ]
  },
  {
   "cell_type": "code",
   "execution_count": 30,
   "id": "850a1258",
   "metadata": {},
   "outputs": [
    {
     "data": {
      "image/png": "[encoded data removed]",
      "text/plain": [
       "<Figure size 640x480 with 1 Axes>"
      ]
     },
     "metadata": {},
     "output_type": "display_data"
    }
   ],
   "source": [
    "import matplotlib.pyplot as plt\n",
    "import seaborn as sns\n",
    "\n",
    "np.random.seed(555)\n",
    "a=np.random.randint(1,7,6000)\n",
    "sns.countplot(x=a)\n",
    "plt.show()"
   ]
  },
  {
   "cell_type": "markdown",
   "id": "04348b2f",
   "metadata": {},
   "source": [
    "# If two dice are rolled, what is the probability of getting the sum of numbers greater than 7"
   ]
  },
  {
   "cell_type": "markdown",
   "id": "3099a73d",
   "metadata": {},
   "source": [
    "## 15/36=0.416"
   ]
  },
  {
   "cell_type": "code",
   "execution_count": 31,
   "id": "593cac4d",
   "metadata": {},
   "outputs": [],
   "source": [
    "die1=np.random.randint(1,7,10)\n",
    "die2=np.random.randint(1,7,10)"
   ]
  },
  {
   "cell_type": "code",
   "execution_count": 32,
   "id": "d06d4f77",
   "metadata": {},
   "outputs": [],
   "source": [
    "die_sum=die1+die2"
   ]
  },
  {
   "cell_type": "code",
   "execution_count": 33,
   "id": "c0411a13",
   "metadata": {},
   "outputs": [
    {
     "data": {
      "text/plain": [
       "array([3, 8, 8, 7, 8, 7, 9, 8, 5, 5])"
      ]
     },
     "execution_count": 33,
     "metadata": {},
     "output_type": "execute_result"
    }
   ],
   "source": [
    "die_sum"
   ]
  },
  {
   "cell_type": "code",
   "execution_count": 34,
   "id": "865458a6",
   "metadata": {},
   "outputs": [
    {
     "data": {
      "text/plain": [
       "5"
      ]
     },
     "execution_count": 34,
     "metadata": {},
     "output_type": "execute_result"
    }
   ],
   "source": [
    "sum(die_sum>7)"
   ]
  },
  {
   "cell_type": "code",
   "execution_count": 39,
   "id": "bfcff484",
   "metadata": {},
   "outputs": [
    {
     "data": {
      "text/plain": [
       "416102"
      ]
     },
     "execution_count": 39,
     "metadata": {},
     "output_type": "execute_result"
    }
   ],
   "source": [
    "die1=np.random.randint(1,7,1000000)\n",
    "die2=np.random.randint(1,7,1000000)\n",
    "die_sum=die1+die2\n",
    "sum(die_sum>7)"
   ]
  },
  {
   "cell_type": "markdown",
   "id": "fb2cc555",
   "metadata": {},
   "source": [
    "# Binomial Distribution"
   ]
  },
  {
   "cell_type": "code",
   "execution_count": 40,
   "id": "5098a56f",
   "metadata": {},
   "outputs": [
    {
     "data": {
      "text/plain": [
       "1"
      ]
     },
     "execution_count": 40,
     "metadata": {},
     "output_type": "execute_result"
    }
   ],
   "source": [
    "np.random.binomial(1,0.5)"
   ]
  },
  {
   "cell_type": "code",
   "execution_count": 41,
   "id": "6476071b",
   "metadata": {},
   "outputs": [
    {
     "data": {
      "text/plain": [
       "1"
      ]
     },
     "execution_count": 41,
     "metadata": {},
     "output_type": "execute_result"
    }
   ],
   "source": [
    "np.random.binomial(2,0.5)"
   ]
  },
  {
   "cell_type": "code",
   "execution_count": 48,
   "id": "8c388113",
   "metadata": {},
   "outputs": [],
   "source": [
    "two_coins=np.random.binomial(2,0.5,1000)"
   ]
  },
  {
   "cell_type": "code",
   "execution_count": 46,
   "id": "1ad92e1f",
   "metadata": {},
   "outputs": [],
   "source": [
    "#two_coins"
   ]
  },
  {
   "cell_type": "code",
   "execution_count": 49,
   "id": "37a69c5a",
   "metadata": {},
   "outputs": [
    {
     "data": {
      "image/png": "[encoded data removed]",
      "text/plain": [
       "<Figure size 640x480 with 1 Axes>"
      ]
     },
     "metadata": {},
     "output_type": "display_data"
    }
   ],
   "source": [
    "import matplotlib.pyplot as plt\n",
    "import seaborn as sns\n",
    "\n",
    "np.random.seed(555)\n",
    "two_coins=np.random.binomial(2,0.5,1000)\n",
    "sns.countplot(x=two_coins)\n",
    "plt.show()"
   ]
  },
  {
   "cell_type": "code",
   "execution_count": 52,
   "id": "2c211f43",
   "metadata": {},
   "outputs": [
    {
     "data": {
      "image/png": "[encoded data removed]",
      "text/plain": [
       "<Figure size 640x480 with 1 Axes>"
      ]
     },
     "metadata": {},
     "output_type": "display_data"
    }
   ],
   "source": [
    "import matplotlib.pyplot as plt\n",
    "import seaborn as sns\n",
    "\n",
    "np.random.seed(555)\n",
    "sns.set_theme(style=\"whitegrid\")\n",
    "ten_coins=np.random.binomial(10,0.5,1000)\n",
    "sns.countplot(x=ten_coins)\n",
    "plt.show()"
   ]
  },
  {
   "cell_type": "markdown",
   "id": "c223347f",
   "metadata": {},
   "source": [
    "# Introducting Scipy"
   ]
  },
  {
   "cell_type": "code",
   "execution_count": 10,
   "id": "e50d5662",
   "metadata": {},
   "outputs": [
    {
     "data": {
      "text/plain": [
       "2.4"
      ]
     },
     "execution_count": 10,
     "metadata": {},
     "output_type": "execute_result"
    }
   ],
   "source": [
    "from scipy.stats import binom\n",
    "\n",
    "#binom.cdf(x,n,p) #cumulative distribution function- for less than or equal to 2\n",
    "#binom.pmf(x,n,p) #probability mass function- for exact two defects\n",
    "# binom.sf(0,20,0.12) # Survival function- more than 2 \n",
    "binom.mean(20,0.12)\n",
    "# binom.var(20,0.12)\n",
    "#binom.std(20,0.12)"
   ]
  },
  {
   "cell_type": "markdown",
   "id": "e0e642e4",
   "metadata": {},
   "source": [
    "### A manufacturer has 12% defects rate in production. The buyer decides to test 20 random pieces and will accept the supplier if there are two or less defectives. What is the probability of getting accepted?\n"
   ]
  },
  {
   "cell_type": "markdown",
   "id": "21733d53",
   "metadata": {},
   "source": [
    "### n=20,p=0.12,x=0,1,2"
   ]
  },
  {
   "cell_type": "code",
   "execution_count": 55,
   "id": "9813e20a",
   "metadata": {},
   "outputs": [],
   "source": [
    "two_rej=np.random.binomial(20,0.12,10)"
   ]
  },
  {
   "cell_type": "code",
   "execution_count": 56,
   "id": "a3ba5215",
   "metadata": {},
   "outputs": [
    {
     "data": {
      "text/plain": [
       "array([5, 1, 3, 6, 0, 2, 2, 2, 1, 3])"
      ]
     },
     "execution_count": 56,
     "metadata": {},
     "output_type": "execute_result"
    }
   ],
   "source": [
    "two_rej"
   ]
  },
  {
   "cell_type": "code",
   "execution_count": 62,
   "id": "d66c8dee",
   "metadata": {},
   "outputs": [
    {
     "data": {
      "image/png": "[encoded data removed]",
      "text/plain": [
       "<Figure size 640x480 with 1 Axes>"
      ]
     },
     "metadata": {},
     "output_type": "display_data"
    }
   ],
   "source": [
    "\n",
    "import matplotlib.pyplot as plt\n",
    "import seaborn as sns\n",
    "\n",
    "#np.random.seed(555)\n",
    "sns.set_theme(style=\"whitegrid\")\n",
    "two_rej=np.random.binomial(20,0.12,1000)\n",
    "sns.countplot(x=two_rej)\n",
    "plt.show()"
   ]
  },
  {
   "cell_type": "code",
   "execution_count": 66,
   "id": "b8d7ed45",
   "metadata": {},
   "outputs": [
    {
     "data": {
      "text/plain": [
       "0.5631315224061949"
      ]
     },
     "execution_count": 66,
     "metadata": {},
     "output_type": "execute_result"
    }
   ],
   "source": [
    "binom.cdf(2,20,0.12) #cumulative distribution function"
   ]
  },
  {
   "cell_type": "code",
   "execution_count": 12,
   "id": "9f2f062c",
   "metadata": {},
   "outputs": [
    {
     "data": {
      "text/plain": [
       "array([ 0,  1,  2,  3,  4,  5,  6,  7,  8,  9, 10, 11, 12, 13, 14, 15, 16,\n",
       "       17, 18, 19, 20])"
      ]
     },
     "execution_count": 12,
     "metadata": {},
     "output_type": "execute_result"
    }
   ],
   "source": [
    "import numpy as np\n",
    "a_ax=np.arange(0,21)\n",
    "a_ax"
   ]
  },
  {
   "cell_type": "code",
   "execution_count": 13,
   "id": "d4100d99",
   "metadata": {},
   "outputs": [],
   "source": [
    "y_ax=binom.pmf(a_ax,20,0.12)"
   ]
  },
  {
   "cell_type": "code",
   "execution_count": 14,
   "id": "b4fd142a",
   "metadata": {},
   "outputs": [
    {
     "data": {
      "text/plain": [
       "array([7.75627936e-02, 2.11534892e-01, 2.74033837e-01, 2.24209503e-01,\n",
       "       1.29939598e-01, 5.67009156e-02, 1.93298576e-02, 5.27177935e-03,\n",
       "       1.16817838e-03, 2.12396069e-04, 3.18594103e-05, 3.94951367e-06,\n",
       "       4.03927535e-07, 3.38960169e-08, 2.31109206e-09, 1.26059567e-10,\n",
       "       5.37185655e-12, 1.72359034e-13, 3.91725077e-15, 5.62284799e-17,\n",
       "       3.83375999e-19])"
      ]
     },
     "execution_count": 14,
     "metadata": {},
     "output_type": "execute_result"
    }
   ],
   "source": [
    "y_ax"
   ]
  },
  {
   "cell_type": "code",
   "execution_count": 15,
   "id": "4d8a77ee",
   "metadata": {},
   "outputs": [
    {
     "data": {
      "image/png": "[encoded data removed]",
      "text/plain": [
       "<Figure size 640x480 with 1 Axes>"
      ]
     },
     "metadata": {},
     "output_type": "display_data"
    }
   ],
   "source": [
    "y_ax=binom.pmf(a_ax,20,0.12)\n",
    "import matplotlib.pyplot as plt\n",
    "import seaborn as sns\n",
    "\n",
    "sns.barplot(x=a_ax,y=y_ax)\n",
    "plt.show()"
   ]
  },
  {
   "cell_type": "code",
   "execution_count": 16,
   "id": "5ea06843",
   "metadata": {},
   "outputs": [
    {
     "data": {
      "image/png": "[encoded data removed]",
      "text/plain": [
       "<Figure size 640x480 with 1 Axes>"
      ]
     },
     "metadata": {},
     "output_type": "display_data"
    }
   ],
   "source": [
    "y_ax=binom.cdf(a_ax,20,0.12)\n",
    "import matplotlib.pyplot as plt\n",
    "import seaborn as sns\n",
    "\n",
    "sns.barplot(x=a_ax,y=y_ax)\n",
    "plt.show()"
   ]
  },
  {
   "cell_type": "markdown",
   "id": "4e1a50e6",
   "metadata": {},
   "source": [
    "# Normal Distribution"
   ]
  },
  {
   "cell_type": "code",
   "execution_count": 17,
   "id": "5d9467c5",
   "metadata": {},
   "outputs": [],
   "source": [
    "import numpy as np\n",
    "import matplotlib.pyplot as plt\n",
    "import seaborn as sns"
   ]
  },
  {
   "cell_type": "code",
   "execution_count": 18,
   "id": "4abce04e",
   "metadata": {},
   "outputs": [
    {
     "data": {
      "text/plain": [
       "96.92943231581783"
      ]
     },
     "execution_count": 18,
     "metadata": {},
     "output_type": "execute_result"
    }
   ],
   "source": [
    "np.random.normal(100,2) #mean=100 and sd=2"
   ]
  },
  {
   "cell_type": "code",
   "execution_count": 19,
   "id": "b27ac429",
   "metadata": {},
   "outputs": [
    {
     "data": {
      "text/plain": [
       "array([100.98097881,  99.37646265, 100.28968398, 101.17749529,\n",
       "       101.18400606,  95.32440902,  97.39705169, 104.92497122,\n",
       "        99.60335893,  99.86862273])"
      ]
     },
     "execution_count": 19,
     "metadata": {},
     "output_type": "execute_result"
    }
   ],
   "source": [
    "np.random.normal(100,2,10)"
   ]
  },
  {
   "cell_type": "code",
   "execution_count": 20,
   "id": "4483e2dc",
   "metadata": {},
   "outputs": [
    {
     "data": {
      "text/plain": [
       "array([100.69,  96.76,  98.53, 101.85,  97.21, 100.72,  99.04, 100.02,\n",
       "       101.18, 103.62])"
      ]
     },
     "execution_count": 20,
     "metadata": {},
     "output_type": "execute_result"
    }
   ],
   "source": [
    "np.round(np.random.normal(100,2,10),2)"
   ]
  },
  {
   "cell_type": "code",
   "execution_count": 21,
   "id": "f317c111",
   "metadata": {},
   "outputs": [
    {
     "data": {
      "image/png": "[encoded data removed]",
      "text/plain": [
       "<Figure size 640x480 with 1 Axes>"
      ]
     },
     "metadata": {},
     "output_type": "display_data"
    }
   ],
   "source": [
    "a=np.random.normal(100,2,1000)\n",
    "sns.histplot(x=a)\n",
    "plt.show()"
   ]
  },
  {
   "cell_type": "code",
   "execution_count": 22,
   "id": "3495fdea",
   "metadata": {},
   "outputs": [
    {
     "data": {
      "image/png": "[encoded data removed]",
      "text/plain": [
       "<Figure size 640x480 with 1 Axes>"
      ]
     },
     "metadata": {},
     "output_type": "display_data"
    }
   ],
   "source": [
    "a=np.random.normal(100,2,1000000)\n",
    "sns.histplot(x=a, kde=True) #kernel density estimation\n",
    "plt.show()"
   ]
  },
  {
   "cell_type": "code",
   "execution_count": 23,
   "id": "e90b9bee",
   "metadata": {},
   "outputs": [
    {
     "data": {
      "text/plain": [
       "842006"
      ]
     },
     "execution_count": 23,
     "metadata": {},
     "output_type": "execute_result"
    }
   ],
   "source": [
    "sum(a>98)"
   ]
  },
  {
   "cell_type": "code",
   "execution_count": 24,
   "id": "5336ed97",
   "metadata": {},
   "outputs": [],
   "source": [
    "b=np.random.normal(100,2,10)"
   ]
  },
  {
   "cell_type": "code",
   "execution_count": 25,
   "id": "2346300f",
   "metadata": {},
   "outputs": [
    {
     "data": {
      "text/plain": [
       "array([100.52913412,  98.76032622,  98.91996559,  95.29437781,\n",
       "        99.74499962,  99.43237075, 100.54921231, 101.50870367,\n",
       "       101.36597696,  97.79751106])"
      ]
     },
     "execution_count": 25,
     "metadata": {},
     "output_type": "execute_result"
    }
   ],
   "source": [
    "b"
   ]
  },
  {
   "cell_type": "code",
   "execution_count": 27,
   "id": "932f31d2",
   "metadata": {},
   "outputs": [
    {
     "data": {
      "text/plain": [
       "array([ True,  True,  True, False,  True,  True,  True,  True,  True,\n",
       "       False])"
      ]
     },
     "execution_count": 27,
     "metadata": {},
     "output_type": "execute_result"
    }
   ],
   "source": [
    "(b>98)"
   ]
  },
  {
   "cell_type": "code",
   "execution_count": 29,
   "id": "a680680a",
   "metadata": {},
   "outputs": [
    {
     "data": {
      "text/plain": [
       "683109"
      ]
     },
     "execution_count": 29,
     "metadata": {},
     "output_type": "execute_result"
    }
   ],
   "source": [
    "sum((a>98) & (a<102))"
   ]
  },
  {
   "cell_type": "code",
   "execution_count": 30,
   "id": "b1e49007",
   "metadata": {},
   "outputs": [
    {
     "data": {
      "text/plain": [
       "954645"
      ]
     },
     "execution_count": 30,
     "metadata": {},
     "output_type": "execute_result"
    }
   ],
   "source": [
    "sum((a>96) & (a<104))"
   ]
  },
  {
   "cell_type": "code",
   "execution_count": 31,
   "id": "f164371e",
   "metadata": {},
   "outputs": [
    {
     "data": {
      "text/plain": [
       "997311"
      ]
     },
     "execution_count": 31,
     "metadata": {},
     "output_type": "execute_result"
    }
   ],
   "source": [
    "sum((a>94) & (a<106))"
   ]
  },
  {
   "cell_type": "markdown",
   "id": "d9386cc5",
   "metadata": {},
   "source": [
    "# Questions: Perfume bottles are filled with an average volume of 150cc and a standard deviation of 2cc. \n",
    "What percent of bottles will have a volume of more than 153 CC?\n"
   ]
  },
  {
   "cell_type": "code",
   "execution_count": 33,
   "id": "8bdf7aed",
   "metadata": {},
   "outputs": [],
   "source": [
    "import numpy as np\n",
    "import matplotlib.pyplot as plt\n",
    "import seaborn as sns\n",
    "from scipy.stats import norm"
   ]
  },
  {
   "cell_type": "code",
   "execution_count": 34,
   "id": "51897b0b",
   "metadata": {},
   "outputs": [
    {
     "data": {
      "text/plain": [
       "0.06680720126885807"
      ]
     },
     "execution_count": 34,
     "metadata": {},
     "output_type": "execute_result"
    }
   ],
   "source": [
    "norm.sf(153,150,2) # x=153, u=150, sd=2"
   ]
  },
  {
   "cell_type": "markdown",
   "id": "67c22d53",
   "metadata": {},
   "source": [
    "# Perfume bottles are filled with an average volume of 150cc and a standard deviation of 2cc. \n",
    "What percent of models will have the volume between 148 and 152 CC?"
   ]
  },
  {
   "cell_type": "code",
   "execution_count": 35,
   "id": "70d2d542",
   "metadata": {},
   "outputs": [
    {
     "data": {
      "text/plain": [
       "0.6826894921370859"
      ]
     },
     "execution_count": 35,
     "metadata": {},
     "output_type": "execute_result"
    }
   ],
   "source": [
    "norm.sf(148,150,2) - norm.sf(152,150,2)"
   ]
  },
  {
   "cell_type": "code",
   "execution_count": null,
   "id": "37262b52",
   "metadata": {},
   "outputs": [],
   "source": [
    "#norm.cdf(x,n,p) #cumulative distribution function- for less than or equal to 2\n",
    "#norm.pdf(x,n,p) #probability density function- for exact values\n",
    "#norm.sf(0,20,0.12) # Survival function- more than 2 \n",
    "#binom.mean(20,0.12)\n",
    "# binom.var(20,0.12)\n",
    "#binom.std(20,0.12)"
   ]
  },
  {
   "cell_type": "code",
   "execution_count": 36,
   "id": "3ae907d0",
   "metadata": {},
   "outputs": [
    {
     "data": {
      "text/plain": [
       "array([144., 145., 146., 147., 148., 149., 150., 151., 152., 153., 154.,\n",
       "       155., 156.])"
      ]
     },
     "execution_count": 36,
     "metadata": {},
     "output_type": "execute_result"
    }
   ],
   "source": [
    "x_ax=np.linspace(144,156,13)\n",
    "x_ax"
   ]
  },
  {
   "cell_type": "code",
   "execution_count": 38,
   "id": "3bbf34c0",
   "metadata": {},
   "outputs": [
    {
     "data": {
      "text/plain": [
       "array([0.00221592, 0.00876415, 0.02699548, 0.0647588 , 0.12098536,\n",
       "       0.17603266, 0.19947114, 0.17603266, 0.12098536, 0.0647588 ,\n",
       "       0.02699548, 0.00876415, 0.00221592])"
      ]
     },
     "execution_count": 38,
     "metadata": {},
     "output_type": "execute_result"
    }
   ],
   "source": [
    "y_ax=norm.pdf(x_ax,150,2)\n",
    "y_ax"
   ]
  },
  {
   "cell_type": "code",
   "execution_count": 39,
   "id": "a3a03fab",
   "metadata": {},
   "outputs": [
    {
     "data": {
      "image/png": "[encoded data removed]",
      "text/plain": [
       "<Figure size 640x480 with 1 Axes>"
      ]
     },
     "metadata": {},
     "output_type": "display_data"
    }
   ],
   "source": [
    "sns.lineplot(x=x_ax,y=y_ax)\n",
    "plt.show()"
   ]
  },
  {
   "cell_type": "code",
   "execution_count": 40,
   "id": "9bd5ea34",
   "metadata": {},
   "outputs": [
    {
     "data": {
      "image/png": "[encoded data removed]",
      "text/plain": [
       "<Figure size 640x480 with 1 Axes>"
      ]
     },
     "metadata": {},
     "output_type": "display_data"
    }
   ],
   "source": [
    "x_ax=np.linspace(144,156,1300)\n",
    "y_ax=norm.pdf(x_ax,150,2)\n",
    "sns.lineplot(x=x_ax,y=y_ax)\n",
    "plt.axvline(152,color='red')\n",
    "plt.show()"
   ]
  },
  {
   "cell_type": "code",
   "execution_count": 41,
   "id": "1c18edc3",
   "metadata": {},
   "outputs": [],
   "source": [
    "import numpy as np\n",
    "import matplotlib.pyplot as plt\n",
    "import seaborn as sns\n"
   ]
  },
  {
   "cell_type": "code",
   "execution_count": 43,
   "id": "56156bfd",
   "metadata": {},
   "outputs": [
    {
     "data": {
      "text/plain": [
       "7"
      ]
     },
     "execution_count": 43,
     "metadata": {},
     "output_type": "execute_result"
    }
   ],
   "source": [
    "np.random.poisson(3.6)"
   ]
  },
  {
   "cell_type": "code",
   "execution_count": 44,
   "id": "e16a2e5a",
   "metadata": {},
   "outputs": [
    {
     "data": {
      "text/plain": [
       "array([3, 5, 0, 4, 4, 5, 3, 4, 2, 6])"
      ]
     },
     "execution_count": 44,
     "metadata": {},
     "output_type": "execute_result"
    }
   ],
   "source": [
    "np.random.poisson(3.6,10)"
   ]
  },
  {
   "cell_type": "code",
   "execution_count": 45,
   "id": "5d901a0c",
   "metadata": {},
   "outputs": [
    {
     "data": {
      "image/png": "[encoded data removed]",
      "text/plain": [
       "<Figure size 640x480 with 1 Axes>"
      ]
     },
     "metadata": {},
     "output_type": "display_data"
    }
   ],
   "source": [
    "q_size=np.random.poisson(3.6,1000)\n",
    "sns.countplot(x=q_size)\n",
    "plt.show()"
   ]
  },
  {
   "cell_type": "code",
   "execution_count": 46,
   "id": "0f8b1266",
   "metadata": {},
   "outputs": [],
   "source": [
    "from scipy.stats import poisson\n",
    "#poisson.cdf(k,mu) #cumulative distribution function- for less than or equal to\n",
    "#poisson.pmf(k,mu) #probability mass function- for exact value\n",
    "# poisson.sf(k,mu) # Survival function- (1-cdf)\n",
    "# poisson.mean(20,0.12)\n",
    "# poisson.var(20,0.12)\n",
    "#poisson.std(20,0.12)\n"
   ]
  },
  {
   "cell_type": "markdown",
   "id": "41331fdd",
   "metadata": {},
   "source": [
    "# On a booking counter on average 3.6 people come every 10 minutes on weekends. \n",
    "what is the probability of getting 7 people in 10 minutes? \n"
   ]
  },
  {
   "cell_type": "code",
   "execution_count": 47,
   "id": "88618c9f",
   "metadata": {},
   "outputs": [
    {
     "data": {
      "text/plain": [
       "0.04248414026930935"
      ]
     },
     "execution_count": 47,
     "metadata": {},
     "output_type": "execute_result"
    }
   ],
   "source": [
    "poisson.pmf(7,3.6)"
   ]
  },
  {
   "cell_type": "code",
   "execution_count": 49,
   "id": "aa3e8c97",
   "metadata": {},
   "outputs": [
    {
     "data": {
      "text/plain": [
       "3.6"
      ]
     },
     "execution_count": 49,
     "metadata": {},
     "output_type": "execute_result"
    }
   ],
   "source": [
    "poisson.mean(3.6)"
   ]
  },
  {
   "cell_type": "code",
   "execution_count": 50,
   "id": "cad9f436",
   "metadata": {},
   "outputs": [
    {
     "data": {
      "text/plain": [
       "3.6"
      ]
     },
     "execution_count": 50,
     "metadata": {},
     "output_type": "execute_result"
    }
   ],
   "source": [
    "poisson.var(3.6)"
   ]
  },
  {
   "cell_type": "code",
   "execution_count": 51,
   "id": "00693aab",
   "metadata": {},
   "outputs": [
    {
     "data": {
      "text/plain": [
       "1.8973665961010275"
      ]
     },
     "execution_count": 51,
     "metadata": {},
     "output_type": "execute_result"
    }
   ],
   "source": [
    "poisson.std(3.6)"
   ]
  },
  {
   "cell_type": "code",
   "execution_count": 53,
   "id": "0035b6db",
   "metadata": {},
   "outputs": [
    {
     "data": {
      "text/plain": [
       "array([ 0,  1,  2,  3,  4,  5,  6,  7,  8,  9, 10])"
      ]
     },
     "execution_count": 53,
     "metadata": {},
     "output_type": "execute_result"
    }
   ],
   "source": [
    "a_ax=np.arange(0,11)\n",
    "a_ax"
   ]
  },
  {
   "cell_type": "code",
   "execution_count": 54,
   "id": "c59f17ba",
   "metadata": {},
   "outputs": [],
   "source": [
    "y_ax=poisson.pmf(a_ax,3.6)"
   ]
  },
  {
   "cell_type": "code",
   "execution_count": 55,
   "id": "aa513973",
   "metadata": {},
   "outputs": [
    {
     "data": {
      "text/plain": [
       "array([0.02732372, 0.0983654 , 0.17705772, 0.21246927, 0.19122234,\n",
       "       0.13768008, 0.08260805, 0.04248414, 0.01911786, 0.00764715,\n",
       "       0.00275297])"
      ]
     },
     "execution_count": 55,
     "metadata": {},
     "output_type": "execute_result"
    }
   ],
   "source": [
    "y_ax"
   ]
  },
  {
   "cell_type": "code",
   "execution_count": 56,
   "id": "0ab9fc43",
   "metadata": {},
   "outputs": [
    {
     "data": {
      "image/png": "[encoded data removed]",
      "text/plain": [
       "<Figure size 640x480 with 1 Axes>"
      ]
     },
     "metadata": {},
     "output_type": "display_data"
    }
   ],
   "source": [
    "sns.barplot(x=a_ax,y=y_ax)\n",
    "plt.show()"
   ]
  },
  {
   "cell_type": "code",
   "execution_count": 57,
   "id": "2313c0da",
   "metadata": {},
   "outputs": [
    {
     "data": {
      "image/png": "[encoded data removed]",
      "text/plain": [
       "<Figure size 640x480 with 1 Axes>"
      ]
     },
     "metadata": {},
     "output_type": "display_data"
    }
   ],
   "source": [
    "y_ax=poisson.cdf(a_ax,3.6)\n",
    "sns.barplot(x=a_ax,y=y_ax)\n",
    "plt.show()"
   ]
  },
  {
   "cell_type": "code",
   "execution_count": null,
   "id": "c7b69ba1",
   "metadata": {},
   "outputs": [],
   "source": []
  }
 ],
 "metadata": {
  "kernelspec": {
   "display_name": "Python 3 (ipykernel)",
   "language": "python",
   "name": "python3"
  },
  "language_info": {
   "codemirror_mode": {
    "name": "ipython",
    "version": 3
   },
   "file_extension": ".py",
   "mimetype": "text/x-python",
   "name": "python",
   "nbconvert_exporter": "python",
   "pygments_lexer": "ipython3",
   "version": "3.9.12"
  }
 },
 "nbformat": 4,
 "nbformat_minor": 5
}
